{
 "cells": [
  {
   "cell_type": "markdown",
   "metadata": {},
   "source": [
    "# Learning how to build deep neural nets\n",
    "## Based on Chap 10 of Hands on ML 3rd ed"
   ]
  },
  {
   "cell_type": "code",
   "execution_count": 1,
   "metadata": {},
   "outputs": [],
   "source": [
    "import sys\n",
    "import sklearn\n",
    "import tensorflow as tf\n",
    "from tensorflow import keras\n",
    "import numpy as np\n",
    "import os\n",
    "np.random.seed(0)\n",
    "import matplotlib as mpl\n",
    "import matplotlib.pyplot as plt"
   ]
  },
  {
   "cell_type": "code",
   "execution_count": 2,
   "metadata": {},
   "outputs": [
    {
     "data": {
      "text/plain": [
       "'1.18.1'"
      ]
     },
     "execution_count": 2,
     "metadata": {},
     "output_type": "execute_result"
    }
   ],
   "source": [
    "# There's some numpy incompatibility with tf which will probably get fixed soon. Downgrading to 1.16.1 is a temporary fix\n",
    "np.__version__"
   ]
  },
  {
   "cell_type": "markdown",
   "metadata": {},
   "source": [
    "### List of initializer functions, glorot_uniform is usually the default.\n",
    "### He initializer is also one that works well with Relu"
   ]
  },
  {
   "cell_type": "code",
   "execution_count": 3,
   "metadata": {},
   "outputs": [
    {
     "data": {
      "text/plain": [
       "['Constant',\n",
       " 'GlorotNormal',\n",
       " 'GlorotUniform',\n",
       " 'Identity',\n",
       " 'Initializer',\n",
       " 'Ones',\n",
       " 'Orthogonal',\n",
       " 'RandomNormal',\n",
       " 'RandomUniform',\n",
       " 'TruncatedNormal',\n",
       " 'VarianceScaling',\n",
       " 'Zeros',\n",
       " 'constant',\n",
       " 'deserialize',\n",
       " 'get',\n",
       " 'glorot_normal',\n",
       " 'glorot_uniform',\n",
       " 'he_normal',\n",
       " 'he_uniform',\n",
       " 'identity',\n",
       " 'lecun_normal',\n",
       " 'lecun_uniform',\n",
       " 'ones',\n",
       " 'orthogonal',\n",
       " 'serialize',\n",
       " 'zeros']"
      ]
     },
     "execution_count": 3,
     "metadata": {},
     "output_type": "execute_result"
    }
   ],
   "source": [
    "[name for name in dir(keras.initializers) if not name.startswith(\"_\")]"
   ]
  },
  {
   "cell_type": "code",
   "execution_count": 5,
   "metadata": {},
   "outputs": [
    {
     "data": {
      "text/plain": [
       "<tensorflow.python.keras.layers.core.Dense at 0x1de952df0c8>"
      ]
     },
     "execution_count": 5,
     "metadata": {},
     "output_type": "execute_result"
    }
   ],
   "source": [
    "keras.layers.Dense(10, activation='relu', kernel_initializer='he_normal')"
   ]
  },
  {
   "cell_type": "code",
   "execution_count": 6,
   "metadata": {},
   "outputs": [
    {
     "data": {
      "text/plain": [
       "<tensorflow.python.keras.layers.core.Dense at 0x1de92c8ad88>"
      ]
     },
     "execution_count": 6,
     "metadata": {},
     "output_type": "execute_result"
    }
   ],
   "source": [
    "# To get He initializer with uniform distribution but based on fan_avg rather than fan_in\n",
    "init = keras.initializers.VarianceScaling(scale=2., mode='fan_avg', distribution='uniform')\n",
    "keras.layers.Dense(10, activation=\"relu\", kernel_initializer=init)"
   ]
  },
  {
   "cell_type": "markdown",
   "metadata": {},
   "source": [
    "### List of activation functions"
   ]
  },
  {
   "cell_type": "code",
   "execution_count": 7,
   "metadata": {},
   "outputs": [
    {
     "data": {
      "text/plain": [
       "['deserialize',\n",
       " 'elu',\n",
       " 'exponential',\n",
       " 'get',\n",
       " 'hard_sigmoid',\n",
       " 'linear',\n",
       " 'relu',\n",
       " 'selu',\n",
       " 'serialize',\n",
       " 'sigmoid',\n",
       " 'softmax',\n",
       " 'softplus',\n",
       " 'softsign',\n",
       " 'tanh']"
      ]
     },
     "execution_count": 7,
     "metadata": {},
     "output_type": "execute_result"
    }
   ],
   "source": [
    "[m for m in dir(keras.activations) if not m.startswith(\"_\")]"
   ]
  },
  {
   "cell_type": "markdown",
   "metadata": {},
   "source": [
    "1. Sigmoid function is in biological neurons but lead to exploding and vanishing gradients so sometimes ReLU is better.\n",
    "2. Drawback of ReLU - dying neurons, stop outputting anything other than zero\n",
    "3. To solve this - leaky ReLU = max(\\alpha z , z) alpha usually set to 0.01\n",
    "4. Newer paper used something called exponential linear unit (ELU) - slower to compute\n",
    "5. 2017 - Scaled ELU (SELU). Exclusively a stack of dense layers which self normalize. Initialization with lecun_normal. Architecture must be sequential, can improve CNN's as well"
   ]
  },
  {
   "cell_type": "code",
   "execution_count": 8,
   "metadata": {},
   "outputs": [
    {
     "data": {
      "text/plain": [
       "['LeakyReLU', 'PReLU', 'ReLU', 'ThresholdedReLU']"
      ]
     },
     "execution_count": 8,
     "metadata": {},
     "output_type": "execute_result"
    }
   ],
   "source": [
    "# Can't set as activation directly \n",
    "[m for m in dir(keras.layers) if \"relu\" in m.lower()]"
   ]
  },
  {
   "cell_type": "markdown",
   "metadata": {},
   "source": [
    "### Try to train fashion MNIST using Leaky ReLU"
   ]
  },
  {
   "cell_type": "code",
   "execution_count": 2,
   "metadata": {},
   "outputs": [],
   "source": [
    "(X_train_full, y_train_full), (X_test, y_test) = keras.datasets.fashion_mnist.load_data()\n",
    "X_train_full = X_train_full / 255.0\n",
    "X_test = X_test / 255.0\n",
    "X_valid, X_train = X_train_full[:5000], X_train_full[5000:]\n",
    "y_valid, y_train = y_train_full[:5000], y_train_full[5000:]"
   ]
  },
  {
   "cell_type": "code",
   "execution_count": 11,
   "metadata": {},
   "outputs": [],
   "source": [
    "tf.random.set_seed(0)\n",
    "model = keras.models.Sequential([\n",
    "    keras.layers.Flatten(input_shape=[28, 28]),\n",
    "    keras.layers.Dense(300, kernel_initializer=\"he_normal\"),\n",
    "    # Have to use this additional layer after each layer\n",
    "    keras.layers.LeakyReLU(),\n",
    "    keras.layers.Dense(100, kernel_initializer=\"he_normal\"),\n",
    "    keras.layers.LeakyReLU(),\n",
    "    keras.layers.Dense(10, activation=\"softmax\")\n",
    "])"
   ]
  },
  {
   "cell_type": "code",
   "execution_count": 12,
   "metadata": {},
   "outputs": [],
   "source": [
    "model.compile(loss=\"sparse_categorical_crossentropy\",\n",
    "              optimizer=keras.optimizers.SGD(lr=1e-3),\n",
    "              metrics=[\"accuracy\"])\n"
   ]
  },
  {
   "cell_type": "code",
   "execution_count": 13,
   "metadata": {},
   "outputs": [
    {
     "name": "stdout",
     "output_type": "stream",
     "text": [
      "Train on 55000 samples, validate on 5000 samples\n",
      "Epoch 1/10\n",
      "55000/55000 [==============================] - 5s 100us/sample - loss: 1.2530 - accuracy: 0.6110 - val_loss: 0.8560 - val_accuracy: 0.7272\n",
      "Epoch 2/10\n",
      "55000/55000 [==============================] - 5s 86us/sample - loss: 0.7813 - accuracy: 0.7411 - val_loss: 0.6964 - val_accuracy: 0.7694\n",
      "Epoch 3/10\n",
      "55000/55000 [==============================] - 5s 86us/sample - loss: 0.6735 - accuracy: 0.7742 - val_loss: 0.6251 - val_accuracy: 0.7982\n",
      "Epoch 4/10\n",
      "55000/55000 [==============================] - 5s 84us/sample - loss: 0.6162 - accuracy: 0.7950 - val_loss: 0.5851 - val_accuracy: 0.8056\n",
      "Epoch 5/10\n",
      "55000/55000 [==============================] - 5s 83us/sample - loss: 0.5788 - accuracy: 0.8086 - val_loss: 0.5528 - val_accuracy: 0.8180\n",
      "Epoch 6/10\n",
      "55000/55000 [==============================] - 5s 82us/sample - loss: 0.5523 - accuracy: 0.8160 - val_loss: 0.5279 - val_accuracy: 0.8272\n",
      "Epoch 7/10\n",
      "55000/55000 [==============================] - 5s 84us/sample - loss: 0.5322 - accuracy: 0.8219 - val_loss: 0.5128 - val_accuracy: 0.8318\n",
      "Epoch 8/10\n",
      "55000/55000 [==============================] - 5s 83us/sample - loss: 0.5163 - accuracy: 0.8258 - val_loss: 0.5003 - val_accuracy: 0.8360\n",
      "Epoch 9/10\n",
      "55000/55000 [==============================] - 5s 83us/sample - loss: 0.5034 - accuracy: 0.8304 - val_loss: 0.4928 - val_accuracy: 0.8364\n",
      "Epoch 10/10\n",
      "55000/55000 [==============================] - 5s 85us/sample - loss: 0.4928 - accuracy: 0.8325 - val_loss: 0.4806 - val_accuracy: 0.8418\n"
     ]
    }
   ],
   "source": [
    "history = model.fit(X_train, y_train, epochs=10,\n",
    "                    validation_data=(X_valid, y_valid))"
   ]
  },
  {
   "cell_type": "markdown",
   "metadata": {},
   "source": [
    "### Training using SELU\n",
    "In this case need to scale to mean 0 and SD 1"
   ]
  },
  {
   "cell_type": "code",
   "execution_count": 14,
   "metadata": {},
   "outputs": [],
   "source": [
    "pixel_means = X_train.mean(axis=0, keepdims=True)\n",
    "pixel_stds = X_train.std(axis=0, keepdims=True)\n",
    "X_train_scaled = (X_train - pixel_means) / pixel_stds\n",
    "X_valid_scaled = (X_valid - pixel_means) / pixel_stds\n",
    "X_test_scaled = (X_test - pixel_means) / pixel_stds"
   ]
  },
  {
   "cell_type": "code",
   "execution_count": 15,
   "metadata": {},
   "outputs": [],
   "source": [
    "model = keras.models.Sequential()\n",
    "model.add(keras.layers.Flatten(input_shape=[28, 28]))\n",
    "model.add(keras.layers.Dense(300, activation=\"selu\",\n",
    "                             kernel_initializer=\"lecun_normal\"))\n",
    "for layer in range(99):\n",
    "    model.add(keras.layers.Dense(100, activation=\"selu\",\n",
    "                                 kernel_initializer=\"lecun_normal\"))\n",
    "model.add(keras.layers.Dense(10, activation=\"softmax\"))"
   ]
  },
  {
   "cell_type": "code",
   "execution_count": 16,
   "metadata": {},
   "outputs": [],
   "source": [
    "model.compile(loss=\"sparse_categorical_crossentropy\",\n",
    "              optimizer=keras.optimizers.SGD(lr=1e-3),\n",
    "              metrics=[\"accuracy\"])"
   ]
  },
  {
   "cell_type": "code",
   "execution_count": 17,
   "metadata": {
    "scrolled": true
   },
   "outputs": [
    {
     "name": "stdout",
     "output_type": "stream",
     "text": [
      "Train on 55000 samples, validate on 5000 samples\n",
      "Epoch 1/5\n",
      "55000/55000 [==============================] - 53s 961us/sample - loss: 1.2577 - accuracy: 0.5144 - val_loss: 0.9184 - val_accuracy: 0.6616\n",
      "Epoch 2/5\n",
      "55000/55000 [==============================] - 45s 825us/sample - loss: 0.8798 - accuracy: 0.6705 - val_loss: 1.6595 - val_accuracy: 0.2790\n",
      "Epoch 3/5\n",
      "55000/55000 [==============================] - 45s 823us/sample - loss: 0.9829 - accuracy: 0.6283 - val_loss: 0.7660 - val_accuracy: 0.7002\n",
      "Epoch 4/5\n",
      "55000/55000 [==============================] - 46s 836us/sample - loss: 0.7512 - accuracy: 0.7079 - val_loss: 0.6577 - val_accuracy: 0.7442\n",
      "Epoch 5/5\n",
      "55000/55000 [==============================] - 45s 816us/sample - loss: 0.6259 - accuracy: 0.7650 - val_loss: 0.5664 - val_accuracy: 0.7994\n"
     ]
    }
   ],
   "source": [
    "# Much slower but avoids vanishing or exploding gradient problem\n",
    "history = model.fit(X_train_scaled, y_train, epochs=5,\n",
    "                    validation_data=(X_valid_scaled, y_valid))"
   ]
  },
  {
   "cell_type": "markdown",
   "metadata": {},
   "source": [
    "### Batch normalization\n",
    "1. Adding an operation just before activation to zero center and normalize each input. \n",
    "2. Can add at the start too, then won't require scaling variables (normalizes each batch btw not the whole dataset)\n",
    "3. Instead of doing normalization each time, keras uses a moving average of layers means and SDs\n",
    "4. Using batch normalization helps with vanishing gradients problem, so can use tanh and sigmoid activation too\n",
    "5. Also acts as a regularizer, reducing need for other regularizers like dropout\n",
    "6. Faster convergence"
   ]
  },
  {
   "cell_type": "code",
   "execution_count": 3,
   "metadata": {},
   "outputs": [],
   "source": [
    "model = keras.models.Sequential([\n",
    "    keras.layers.Flatten(input_shape=[28, 28]),\n",
    "    keras.layers.BatchNormalization(),\n",
    "    keras.layers.Dense(300, activation=\"relu\"),\n",
    "    keras.layers.BatchNormalization(),\n",
    "    keras.layers.Dense(100, activation=\"relu\"),\n",
    "    keras.layers.BatchNormalization(),\n",
    "    keras.layers.Dense(10, activation=\"softmax\")\n",
    "])"
   ]
  },
  {
   "cell_type": "code",
   "execution_count": 4,
   "metadata": {},
   "outputs": [
    {
     "name": "stdout",
     "output_type": "stream",
     "text": [
      "Model: \"sequential\"\n",
      "_________________________________________________________________\n",
      "Layer (type)                 Output Shape              Param #   \n",
      "=================================================================\n",
      "flatten (Flatten)            (None, 784)               0         \n",
      "_________________________________________________________________\n",
      "batch_normalization (BatchNo (None, 784)               3136      \n",
      "_________________________________________________________________\n",
      "dense (Dense)                (None, 300)               235500    \n",
      "_________________________________________________________________\n",
      "batch_normalization_1 (Batch (None, 300)               1200      \n",
      "_________________________________________________________________\n",
      "dense_1 (Dense)              (None, 100)               30100     \n",
      "_________________________________________________________________\n",
      "batch_normalization_2 (Batch (None, 100)               400       \n",
      "_________________________________________________________________\n",
      "dense_2 (Dense)              (None, 10)                1010      \n",
      "=================================================================\n",
      "Total params: 271,346\n",
      "Trainable params: 268,978\n",
      "Non-trainable params: 2,368\n",
      "_________________________________________________________________\n"
     ]
    }
   ],
   "source": [
    "model.summary()"
   ]
  },
  {
   "cell_type": "code",
   "execution_count": 5,
   "metadata": {},
   "outputs": [],
   "source": [
    "model.compile(loss=\"sparse_categorical_crossentropy\",\n",
    "              optimizer=keras.optimizers.SGD(lr=1e-3),\n",
    "              metrics=[\"accuracy\"])"
   ]
  },
  {
   "cell_type": "code",
   "execution_count": 6,
   "metadata": {},
   "outputs": [
    {
     "name": "stdout",
     "output_type": "stream",
     "text": [
      "Train on 55000 samples, validate on 5000 samples\n",
      "Epoch 1/10\n",
      "55000/55000 [==============================] - 11s 207us/sample - loss: 0.8603 - accuracy: 0.7109 - val_loss: 0.5515 - val_accuracy: 0.8180\n",
      "Epoch 2/10\n",
      "55000/55000 [==============================] - 10s 191us/sample - loss: 0.5737 - accuracy: 0.8017 - val_loss: 0.4728 - val_accuracy: 0.8400\n",
      "Epoch 3/10\n",
      "55000/55000 [==============================] - 10s 184us/sample - loss: 0.5144 - accuracy: 0.8215 - val_loss: 0.4359 - val_accuracy: 0.8540\n",
      "Epoch 4/10\n",
      "55000/55000 [==============================] - 10s 185us/sample - loss: 0.4791 - accuracy: 0.8335 - val_loss: 0.4153 - val_accuracy: 0.8588\n",
      "Epoch 5/10\n",
      "55000/55000 [==============================] - 12s 211us/sample - loss: 0.4580 - accuracy: 0.8388 - val_loss: 0.4013 - val_accuracy: 0.8642\n",
      "Epoch 6/10\n",
      "55000/55000 [==============================] - 11s 196us/sample - loss: 0.4363 - accuracy: 0.8480 - val_loss: 0.3904 - val_accuracy: 0.8640\n",
      "Epoch 7/10\n",
      "55000/55000 [==============================] - 11s 199us/sample - loss: 0.4228 - accuracy: 0.8525 - val_loss: 0.3805 - val_accuracy: 0.8704\n",
      "Epoch 8/10\n",
      "55000/55000 [==============================] - 10s 173us/sample - loss: 0.4103 - accuracy: 0.8546 - val_loss: 0.3746 - val_accuracy: 0.8710\n",
      "Epoch 9/10\n",
      "55000/55000 [==============================] - 10s 183us/sample - loss: 0.3989 - accuracy: 0.8592 - val_loss: 0.3656 - val_accuracy: 0.8734\n",
      "Epoch 10/10\n",
      "55000/55000 [==============================] - 11s 199us/sample - loss: 0.3897 - accuracy: 0.8619 - val_loss: 0.3625 - val_accuracy: 0.8722\n"
     ]
    }
   ],
   "source": [
    "history = model.fit(X_train, y_train, epochs=10,\n",
    "                    validation_data=(X_valid, y_valid))"
   ]
  },
  {
   "cell_type": "markdown",
   "metadata": {},
   "source": [
    "Layer before a batch normalization doesn't need bias terms (waste of space since BN does it automatically) \n",
    "So can do something like this"
   ]
  },
  {
   "cell_type": "code",
   "execution_count": 7,
   "metadata": {},
   "outputs": [],
   "source": [
    "model = keras.models.Sequential([\n",
    "    keras.layers.Flatten(input_shape=[28, 28]),\n",
    "    keras.layers.BatchNormalization(),\n",
    "    keras.layers.Dense(300, use_bias=False),\n",
    "    keras.layers.BatchNormalization(),\n",
    "    keras.layers.Activation(\"relu\"),\n",
    "    keras.layers.Dense(100, use_bias=False),\n",
    "    keras.layers.BatchNormalization(),\n",
    "    keras.layers.Activation(\"relu\"),\n",
    "    keras.layers.Dense(10, activation=\"softmax\")\n",
    "])"
   ]
  },
  {
   "cell_type": "code",
   "execution_count": 8,
   "metadata": {},
   "outputs": [],
   "source": [
    "model.compile(loss=\"sparse_categorical_crossentropy\",\n",
    "              optimizer=keras.optimizers.SGD(lr=1e-3),\n",
    "              metrics=[\"accuracy\"])"
   ]
  },
  {
   "cell_type": "code",
   "execution_count": 9,
   "metadata": {},
   "outputs": [
    {
     "name": "stdout",
     "output_type": "stream",
     "text": [
      "Train on 55000 samples, validate on 5000 samples\n",
      "Epoch 1/10\n",
      "55000/55000 [==============================] - 18s 332us/sample - loss: 1.0344 - accuracy: 0.6736 - val_loss: 0.6724 - val_accuracy: 0.7922\n",
      "Epoch 2/10\n",
      "55000/55000 [==============================] - 16s 287us/sample - loss: 0.6782 - accuracy: 0.7827 - val_loss: 0.5544 - val_accuracy: 0.8228\n",
      "Epoch 3/10\n",
      "55000/55000 [==============================] - 15s 281us/sample - loss: 0.5910 - accuracy: 0.8052 - val_loss: 0.4973 - val_accuracy: 0.8388\n",
      "Epoch 4/10\n",
      "55000/55000 [==============================] - 15s 277us/sample - loss: 0.5440 - accuracy: 0.8173 - val_loss: 0.4638 - val_accuracy: 0.8458\n",
      "Epoch 5/10\n",
      "55000/55000 [==============================] - 15s 267us/sample - loss: 0.5093 - accuracy: 0.8277 - val_loss: 0.4418 - val_accuracy: 0.8532\n",
      "Epoch 6/10\n",
      "55000/55000 [==============================] - 14s 258us/sample - loss: 0.4899 - accuracy: 0.8325 - val_loss: 0.4234 - val_accuracy: 0.8582\n",
      "Epoch 7/10\n",
      "55000/55000 [==============================] - 15s 278us/sample - loss: 0.4724 - accuracy: 0.8379 - val_loss: 0.4110 - val_accuracy: 0.8588\n",
      "Epoch 8/10\n",
      "55000/55000 [==============================] - 16s 294us/sample - loss: 0.4547 - accuracy: 0.8435 - val_loss: 0.4005 - val_accuracy: 0.8634\n",
      "Epoch 9/10\n",
      "55000/55000 [==============================] - 19s 347us/sample - loss: 0.4406 - accuracy: 0.8484 - val_loss: 0.3914 - val_accuracy: 0.8644\n",
      "Epoch 10/10\n",
      "55000/55000 [==============================] - 18s 324us/sample - loss: 0.4333 - accuracy: 0.8487 - val_loss: 0.3842 - val_accuracy: 0.8658\n"
     ]
    }
   ],
   "source": [
    "\n",
    "history = model.fit(X_train, y_train, epochs=10,\n",
    "                    validation_data=(X_valid, y_valid))"
   ]
  },
  {
   "cell_type": "markdown",
   "metadata": {},
   "source": [
    "# Transfer learning"
   ]
  },
  {
   "cell_type": "markdown",
   "metadata": {},
   "source": [
    "### Reusing pretrained layers\n",
    "1. Not a good idea to train very large DNN from scratch\n",
    "2. Try to find existing NN that accomplishes a similar task and reuse the lower layers\n",
    "3. Speed up training and need less training data"
   ]
  },
  {
   "cell_type": "markdown",
   "metadata": {},
   "source": [
    "### Example\n",
    "1. Use MNIST Fashion with 8 classes except sandal and shirt - someone built a model on it and got 90% accuracy\n",
    "2. Now use the sandal and shirt data, train binary classifier, small dataset only 200 images, \n",
    "3. Task quite similar so transfer learning between the first model to this"
   ]
  },
  {
   "cell_type": "code",
   "execution_count": 10,
   "metadata": {},
   "outputs": [],
   "source": [
    "def split_dataset(X, y):\n",
    "    y_5_or_6 = (y == 5) | (y == 6) # sandals or shirts\n",
    "    y_A = y[~y_5_or_6]\n",
    "    y_A[y_A > 6] -= 2 # class indices 7, 8, 9 should be moved to 5, 6, 7\n",
    "    y_B = (y[y_5_or_6] == 6).astype(np.float32) # binary classification task: is it a shirt (class 6)?\n",
    "    return ((X[~y_5_or_6], y_A),\n",
    "            (X[y_5_or_6], y_B))\n",
    "\n",
    "(X_train_A, y_train_A), (X_train_B, y_train_B) = split_dataset(X_train, y_train)\n",
    "(X_valid_A, y_valid_A), (X_valid_B, y_valid_B) = split_dataset(X_valid, y_valid)\n",
    "(X_test_A, y_test_A), (X_test_B, y_test_B) = split_dataset(X_test, y_test)\n",
    "X_train_B = X_train_B[:200]\n",
    "y_train_B = y_train_B[:200]"
   ]
  },
  {
   "cell_type": "code",
   "execution_count": 11,
   "metadata": {},
   "outputs": [
    {
     "data": {
      "text/plain": [
       "(43986, 28, 28)"
      ]
     },
     "execution_count": 11,
     "metadata": {},
     "output_type": "execute_result"
    }
   ],
   "source": [
    "# except sandals and shirt\n",
    "X_train_A.shape"
   ]
  },
  {
   "cell_type": "code",
   "execution_count": 13,
   "metadata": {},
   "outputs": [
    {
     "data": {
      "text/plain": [
       "(200, 28, 28)"
      ]
     },
     "execution_count": 13,
     "metadata": {},
     "output_type": "execute_result"
    }
   ],
   "source": [
    "# only sandals and shirt\n",
    "X_train_B.shape"
   ]
  },
  {
   "cell_type": "code",
   "execution_count": 14,
   "metadata": {},
   "outputs": [
    {
     "data": {
      "text/plain": [
       "array([4, 0, 5, 7, 7, 7, 4, 4, 3, 4, 0, 1, 6, 3, 4, 3, 2, 6, 5, 3, 4, 5,\n",
       "       1, 3, 4, 2, 0, 6, 7, 1], dtype=uint8)"
      ]
     },
     "execution_count": 14,
     "metadata": {},
     "output_type": "execute_result"
    }
   ],
   "source": [
    "y_train_A[:30]"
   ]
  },
  {
   "cell_type": "code",
   "execution_count": 15,
   "metadata": {},
   "outputs": [
    {
     "data": {
      "text/plain": [
       "array([1., 1., 0., 0., 0., 0., 1., 1., 1., 0., 0., 1., 1., 0., 0., 0., 0.,\n",
       "       0., 0., 1., 1., 0., 0., 1., 1., 0., 1., 1., 1., 1.], dtype=float32)"
      ]
     },
     "execution_count": 15,
     "metadata": {},
     "output_type": "execute_result"
    }
   ],
   "source": [
    "y_train_B[:30]"
   ]
  },
  {
   "cell_type": "code",
   "execution_count": 16,
   "metadata": {},
   "outputs": [],
   "source": [
    "model_A = keras.models.Sequential()\n",
    "model_A.add(keras.layers.Flatten(input_shape=[28, 28]))\n",
    "for n_hidden in (300, 100, 50, 50, 50):\n",
    "    model_A.add(keras.layers.Dense(n_hidden, activation=\"selu\"))\n",
    "model_A.add(keras.layers.Dense(8, activation=\"softmax\"))"
   ]
  },
  {
   "cell_type": "code",
   "execution_count": 17,
   "metadata": {},
   "outputs": [],
   "source": [
    "model_A.compile(loss=\"sparse_categorical_crossentropy\",\n",
    "                optimizer=keras.optimizers.SGD(lr=1e-3),\n",
    "                metrics=[\"accuracy\"])"
   ]
  },
  {
   "cell_type": "code",
   "execution_count": 18,
   "metadata": {},
   "outputs": [
    {
     "name": "stdout",
     "output_type": "stream",
     "text": [
      "Train on 43986 samples, validate on 4014 samples\n",
      "Epoch 1/20\n",
      "43986/43986 [==============================] - 10s 232us/sample - loss: 0.5712 - accuracy: 0.8140 - val_loss: 0.3755 - val_accuracy: 0.8747\n",
      "Epoch 2/20\n",
      "43986/43986 [==============================] - 9s 202us/sample - loss: 0.3577 - accuracy: 0.8763 - val_loss: 0.3247 - val_accuracy: 0.8901\n",
      "Epoch 3/20\n",
      "43986/43986 [==============================] - 8s 183us/sample - loss: 0.3218 - accuracy: 0.8885 - val_loss: 0.3009 - val_accuracy: 0.8989\n",
      "Epoch 4/20\n",
      "43986/43986 [==============================] - 8s 182us/sample - loss: 0.3021 - accuracy: 0.8951 - val_loss: 0.2868 - val_accuracy: 0.9028\n",
      "Epoch 5/20\n",
      "43986/43986 [==============================] - 9s 200us/sample - loss: 0.2887 - accuracy: 0.9006 - val_loss: 0.2785 - val_accuracy: 0.9088\n",
      "Epoch 6/20\n",
      "43986/43986 [==============================] - 9s 200us/sample - loss: 0.2781 - accuracy: 0.9045 - val_loss: 0.2714 - val_accuracy: 0.9098\n",
      "Epoch 7/20\n",
      "43986/43986 [==============================] - 9s 201us/sample - loss: 0.2702 - accuracy: 0.9066 - val_loss: 0.2641 - val_accuracy: 0.9103\n",
      "Epoch 8/20\n",
      "43986/43986 [==============================] - 9s 203us/sample - loss: 0.2636 - accuracy: 0.9094 - val_loss: 0.2615 - val_accuracy: 0.9106\n",
      "Epoch 9/20\n",
      "43986/43986 [==============================] - 9s 205us/sample - loss: 0.2576 - accuracy: 0.9105 - val_loss: 0.2554 - val_accuracy: 0.9145\n",
      "Epoch 10/20\n",
      "43986/43986 [==============================] - 9s 202us/sample - loss: 0.2530 - accuracy: 0.9130 - val_loss: 0.2522 - val_accuracy: 0.9153\n",
      "Epoch 11/20\n",
      "43986/43986 [==============================] - 9s 200us/sample - loss: 0.2485 - accuracy: 0.9157 - val_loss: 0.2495 - val_accuracy: 0.9141\n",
      "Epoch 12/20\n",
      "43986/43986 [==============================] - 9s 205us/sample - loss: 0.2443 - accuracy: 0.9157 - val_loss: 0.2473 - val_accuracy: 0.9173\n",
      "Epoch 13/20\n",
      "43986/43986 [==============================] - 9s 197us/sample - loss: 0.2412 - accuracy: 0.9169 - val_loss: 0.2458 - val_accuracy: 0.9183\n",
      "Epoch 14/20\n",
      "43986/43986 [==============================] - 9s 208us/sample - loss: 0.2377 - accuracy: 0.9185 - val_loss: 0.2420 - val_accuracy: 0.9165\n",
      "Epoch 15/20\n",
      "43986/43986 [==============================] - 9s 202us/sample - loss: 0.2348 - accuracy: 0.9194 - val_loss: 0.2391 - val_accuracy: 0.9180\n",
      "Epoch 16/20\n",
      "43986/43986 [==============================] - 8s 187us/sample - loss: 0.2314 - accuracy: 0.9205 - val_loss: 0.2425 - val_accuracy: 0.9163\n",
      "Epoch 17/20\n",
      "43986/43986 [==============================] - 8s 183us/sample - loss: 0.2290 - accuracy: 0.9215 - val_loss: 0.2361 - val_accuracy: 0.9200\n",
      "Epoch 18/20\n",
      "43986/43986 [==============================] - 8s 175us/sample - loss: 0.2264 - accuracy: 0.9230 - val_loss: 0.2371 - val_accuracy: 0.9170\n",
      "Epoch 19/20\n",
      "43986/43986 [==============================] - 8s 189us/sample - loss: 0.2239 - accuracy: 0.9231 - val_loss: 0.2407 - val_accuracy: 0.9195\n",
      "Epoch 20/20\n",
      "43986/43986 [==============================] - 9s 196us/sample - loss: 0.2215 - accuracy: 0.9238 - val_loss: 0.2394 - val_accuracy: 0.9153\n"
     ]
    }
   ],
   "source": [
    "history = model_A.fit(X_train_A, y_train_A, epochs=20,\n",
    "                    validation_data=(X_valid_A, y_valid_A))"
   ]
  },
  {
   "cell_type": "code",
   "execution_count": 19,
   "metadata": {},
   "outputs": [],
   "source": [
    "model_A.save(\"../models/model_A_TL.h5\")"
   ]
  },
  {
   "cell_type": "markdown",
   "metadata": {},
   "source": [
    "### Try a model with the small training set only "
   ]
  },
  {
   "cell_type": "code",
   "execution_count": 20,
   "metadata": {},
   "outputs": [],
   "source": [
    "model_B = keras.models.Sequential()\n",
    "model_B.add(keras.layers.Flatten(input_shape=[28, 28]))\n",
    "for n_hidden in (300, 100, 50, 50, 50):\n",
    "    model_B.add(keras.layers.Dense(n_hidden, activation=\"selu\"))\n",
    "model_B.add(keras.layers.Dense(1, activation=\"sigmoid\"))"
   ]
  },
  {
   "cell_type": "code",
   "execution_count": 21,
   "metadata": {},
   "outputs": [],
   "source": [
    "\n",
    "model_B.compile(loss=\"binary_crossentropy\",\n",
    "                optimizer=keras.optimizers.SGD(lr=1e-3),\n",
    "                metrics=[\"accuracy\"])"
   ]
  },
  {
   "cell_type": "code",
   "execution_count": 22,
   "metadata": {},
   "outputs": [
    {
     "name": "stdout",
     "output_type": "stream",
     "text": [
      "Train on 200 samples, validate on 986 samples\n",
      "Epoch 1/20\n",
      "200/200 [==============================] - 2s 9ms/sample - loss: 0.4965 - accuracy: 0.7850 - val_loss: 0.3920 - val_accuracy: 0.8590\n",
      "Epoch 2/20\n",
      "200/200 [==============================] - 0s 945us/sample - loss: 0.3490 - accuracy: 0.8650 - val_loss: 0.2931 - val_accuracy: 0.9087\n",
      "Epoch 3/20\n",
      "200/200 [==============================] - 0s 932us/sample - loss: 0.2597 - accuracy: 0.9250 - val_loss: 0.2352 - val_accuracy: 0.9422\n",
      "Epoch 4/20\n",
      "200/200 [==============================] - 0s 1ms/sample - loss: 0.2058 - accuracy: 0.9650 - val_loss: 0.1982 - val_accuracy: 0.9615\n",
      "Epoch 5/20\n",
      "200/200 [==============================] - 0s 858us/sample - loss: 0.1710 - accuracy: 0.9750 - val_loss: 0.1731 - val_accuracy: 0.9645\n",
      "Epoch 6/20\n",
      "200/200 [==============================] - 0s 1ms/sample - loss: 0.1462 - accuracy: 0.9850 - val_loss: 0.1528 - val_accuracy: 0.9696\n",
      "Epoch 7/20\n",
      "200/200 [==============================] - 0s 1ms/sample - loss: 0.1271 - accuracy: 0.9850 - val_loss: 0.1393 - val_accuracy: 0.9716\n",
      "Epoch 8/20\n",
      "200/200 [==============================] - 0s 1ms/sample - loss: 0.1139 - accuracy: 0.9850 - val_loss: 0.1278 - val_accuracy: 0.9787\n",
      "Epoch 9/20\n",
      "200/200 [==============================] - 0s 781us/sample - loss: 0.1027 - accuracy: 0.9900 - val_loss: 0.1185 - val_accuracy: 0.9817\n",
      "Epoch 10/20\n",
      "200/200 [==============================] - 0s 1ms/sample - loss: 0.0940 - accuracy: 0.9900 - val_loss: 0.1108 - val_accuracy: 0.9848\n",
      "Epoch 11/20\n",
      "200/200 [==============================] - 0s 1ms/sample - loss: 0.0863 - accuracy: 0.9900 - val_loss: 0.1046 - val_accuracy: 0.9848\n",
      "Epoch 12/20\n",
      "200/200 [==============================] - 0s 1ms/sample - loss: 0.0802 - accuracy: 0.9900 - val_loss: 0.0990 - val_accuracy: 0.9858\n",
      "Epoch 13/20\n",
      "200/200 [==============================] - 0s 972us/sample - loss: 0.0751 - accuracy: 0.9900 - val_loss: 0.0944 - val_accuracy: 0.9858\n",
      "Epoch 14/20\n",
      "200/200 [==============================] - 0s 838us/sample - loss: 0.0706 - accuracy: 0.9900 - val_loss: 0.0905 - val_accuracy: 0.9858\n",
      "Epoch 15/20\n",
      "200/200 [==============================] - 0s 775us/sample - loss: 0.0666 - accuracy: 0.9900 - val_loss: 0.0871 - val_accuracy: 0.9868\n",
      "Epoch 16/20\n",
      "200/200 [==============================] - 0s 773us/sample - loss: 0.0629 - accuracy: 0.9950 - val_loss: 0.0837 - val_accuracy: 0.9858\n",
      "Epoch 17/20\n",
      "200/200 [==============================] - 0s 1ms/sample - loss: 0.0598 - accuracy: 0.9950 - val_loss: 0.0808 - val_accuracy: 0.9868\n",
      "Epoch 18/20\n",
      "200/200 [==============================] - 0s 2ms/sample - loss: 0.0568 - accuracy: 0.9950 - val_loss: 0.0783 - val_accuracy: 0.9878\n",
      "Epoch 19/20\n",
      "200/200 [==============================] - 0s 2ms/sample - loss: 0.0543 - accuracy: 0.9950 - val_loss: 0.0760 - val_accuracy: 0.9878\n",
      "Epoch 20/20\n",
      "200/200 [==============================] - 0s 1ms/sample - loss: 0.0521 - accuracy: 0.9950 - val_loss: 0.0737 - val_accuracy: 0.9899\n"
     ]
    }
   ],
   "source": [
    "history = model_B.fit(X_train_B, y_train_B, epochs=20,\n",
    "                      validation_data=(X_valid_B, y_valid_B))"
   ]
  },
  {
   "cell_type": "code",
   "execution_count": 23,
   "metadata": {},
   "outputs": [
    {
     "name": "stdout",
     "output_type": "stream",
     "text": [
      "Model: \"sequential_1\"\n",
      "_________________________________________________________________\n",
      "Layer (type)                 Output Shape              Param #   \n",
      "=================================================================\n",
      "flatten_1 (Flatten)          (None, 784)               0         \n",
      "_________________________________________________________________\n",
      "batch_normalization_3 (Batch (None, 784)               3136      \n",
      "_________________________________________________________________\n",
      "dense_3 (Dense)              (None, 300)               235200    \n",
      "_________________________________________________________________\n",
      "batch_normalization_4 (Batch (None, 300)               1200      \n",
      "_________________________________________________________________\n",
      "activation (Activation)      (None, 300)               0         \n",
      "_________________________________________________________________\n",
      "dense_4 (Dense)              (None, 100)               30000     \n",
      "_________________________________________________________________\n",
      "batch_normalization_5 (Batch (None, 100)               400       \n",
      "_________________________________________________________________\n",
      "activation_1 (Activation)    (None, 100)               0         \n",
      "_________________________________________________________________\n",
      "dense_5 (Dense)              (None, 10)                1010      \n",
      "=================================================================\n",
      "Total params: 270,946\n",
      "Trainable params: 268,578\n",
      "Non-trainable params: 2,368\n",
      "_________________________________________________________________\n"
     ]
    }
   ],
   "source": [
    "model.summary()"
   ]
  },
  {
   "cell_type": "markdown",
   "metadata": {},
   "source": [
    "### What if we use transfer learning"
   ]
  },
  {
   "cell_type": "code",
   "execution_count": 26,
   "metadata": {},
   "outputs": [],
   "source": [
    "model_A = keras.models.load_model(\"../models/model_A_TL.h5\")\n",
    "# Use all layers except the last (different shape)\n",
    "model_B_on_A = keras.models.Sequential(model_A.layers[:-1])\n",
    "# Add in a final layer\n",
    "model_B_on_A.add(keras.layers.Dense(1, activation=\"sigmoid\"))"
   ]
  },
  {
   "cell_type": "code",
   "execution_count": 27,
   "metadata": {},
   "outputs": [],
   "source": [
    "# model A and B share layers, changes to model B on A will affect model A too, clone the model to avoid this\n",
    "model_A_clone = keras.models.clone_model(model_A)\n",
    "model_A_clone.set_weights(model_A.get_weights())"
   ]
  },
  {
   "cell_type": "code",
   "execution_count": 28,
   "metadata": {},
   "outputs": [],
   "source": [
    "# Don't want to train already trained layers from model_A\n",
    "for layer in model_B_on_A.layers[:-1]:\n",
    "    layer.trainable = False\n",
    "\n",
    "model_B_on_A.compile(loss=\"binary_crossentropy\",\n",
    "                     optimizer=keras.optimizers.SGD(lr=1e-3),\n",
    "                     metrics=[\"accuracy\"])"
   ]
  },
  {
   "cell_type": "code",
   "execution_count": 29,
   "metadata": {},
   "outputs": [
    {
     "name": "stdout",
     "output_type": "stream",
     "text": [
      "Train on 200 samples, validate on 986 samples\n",
      "Epoch 1/4\n",
      "200/200 [==============================] - 1s 7ms/sample - loss: 0.0805 - accuracy: 0.9850 - val_loss: 0.0918 - val_accuracy: 0.9868\n",
      "Epoch 2/4\n",
      "200/200 [==============================] - 0s 723us/sample - loss: 0.0795 - accuracy: 0.9850 - val_loss: 0.0909 - val_accuracy: 0.9868\n",
      "Epoch 3/4\n",
      "200/200 [==============================] - 0s 768us/sample - loss: 0.0786 - accuracy: 0.9850 - val_loss: 0.0899 - val_accuracy: 0.9868\n",
      "Epoch 4/4\n",
      "200/200 [==============================] - 0s 952us/sample - loss: 0.0776 - accuracy: 0.9850 - val_loss: 0.0890 - val_accuracy: 0.9868\n",
      "Train on 200 samples, validate on 986 samples\n",
      "Epoch 1/16\n",
      "200/200 [==============================] - 2s 9ms/sample - loss: 0.0768 - accuracy: 0.9850 - val_loss: 0.0884 - val_accuracy: 0.9868\n",
      "Epoch 2/16\n",
      "200/200 [==============================] - 0s 1ms/sample - loss: 0.0761 - accuracy: 0.9850 - val_loss: 0.0877 - val_accuracy: 0.9868\n",
      "Epoch 3/16\n",
      "200/200 [==============================] - 0s 803us/sample - loss: 0.0754 - accuracy: 0.9850 - val_loss: 0.0870 - val_accuracy: 0.9868\n",
      "Epoch 4/16\n",
      "200/200 [==============================] - 0s 773us/sample - loss: 0.0746 - accuracy: 0.9850 - val_loss: 0.0863 - val_accuracy: 0.9868\n",
      "Epoch 5/16\n",
      "200/200 [==============================] - 0s 723us/sample - loss: 0.0739 - accuracy: 0.9850 - val_loss: 0.0857 - val_accuracy: 0.9868\n",
      "Epoch 6/16\n",
      "200/200 [==============================] - 0s 771us/sample - loss: 0.0733 - accuracy: 0.9850 - val_loss: 0.0851 - val_accuracy: 0.9878\n",
      "Epoch 7/16\n",
      "200/200 [==============================] - 0s 778us/sample - loss: 0.0726 - accuracy: 0.9850 - val_loss: 0.0845 - val_accuracy: 0.9878\n",
      "Epoch 8/16\n",
      "200/200 [==============================] - 0s 743us/sample - loss: 0.0719 - accuracy: 0.9850 - val_loss: 0.0839 - val_accuracy: 0.9878\n",
      "Epoch 9/16\n",
      "200/200 [==============================] - 0s 1ms/sample - loss: 0.0713 - accuracy: 0.9850 - val_loss: 0.0833 - val_accuracy: 0.9878\n",
      "Epoch 10/16\n",
      "200/200 [==============================] - 0s 1ms/sample - loss: 0.0707 - accuracy: 0.9850 - val_loss: 0.0828 - val_accuracy: 0.9878\n",
      "Epoch 11/16\n",
      "200/200 [==============================] - 0s 1ms/sample - loss: 0.0701 - accuracy: 0.9850 - val_loss: 0.0822 - val_accuracy: 0.9878\n",
      "Epoch 12/16\n",
      "200/200 [==============================] - 0s 773us/sample - loss: 0.0695 - accuracy: 0.9850 - val_loss: 0.0816 - val_accuracy: 0.9878\n",
      "Epoch 13/16\n",
      "200/200 [==============================] - 0s 778us/sample - loss: 0.0689 - accuracy: 0.9850 - val_loss: 0.0811 - val_accuracy: 0.9878\n",
      "Epoch 14/16\n",
      "200/200 [==============================] - 0s 1ms/sample - loss: 0.0683 - accuracy: 0.9850 - val_loss: 0.0806 - val_accuracy: 0.9878\n",
      "Epoch 15/16\n",
      "200/200 [==============================] - 0s 1ms/sample - loss: 0.0677 - accuracy: 0.9850 - val_loss: 0.0801 - val_accuracy: 0.9878\n",
      "Epoch 16/16\n",
      "200/200 [==============================] - 0s 1ms/sample - loss: 0.0672 - accuracy: 0.9850 - val_loss: 0.0796 - val_accuracy: 0.9878\n"
     ]
    }
   ],
   "source": [
    "# Since the new output layer was initialized randomly, will make large errors, so freeze the reused layers during first few epochs \n",
    "# gives the new layer time to learn some reasonable weights\n",
    "# always compile after freeze or unfreeze layers\n",
    "# After unfreezing, good idea to reduce the learning rate\n",
    "history = model_B_on_A.fit(X_train_B, y_train_B, epochs=4,\n",
    "                           validation_data=(X_valid_B, y_valid_B))\n",
    "\n",
    "for layer in model_B_on_A.layers[:-1]:\n",
    "    layer.trainable = True\n",
    "\n",
    "model_B_on_A.compile(loss=\"binary_crossentropy\",\n",
    "                     optimizer=keras.optimizers.SGD(lr=1e-4),\n",
    "                     metrics=[\"accuracy\"])\n",
    "history = model_B_on_A.fit(X_train_B, y_train_B, epochs=16,\n",
    "                           validation_data=(X_valid_B, y_valid_B))"
   ]
  },
  {
   "cell_type": "code",
   "execution_count": 30,
   "metadata": {},
   "outputs": [
    {
     "name": "stdout",
     "output_type": "stream",
     "text": [
      "\r",
      "2000/1 [================================================================================================================================================================================================================================================================================================================================================================================================================================================================================================================================================================================================================================================================================================================================================================================================================================================================================================================================================================================================================================================================================================================================================================================================================================================================================================================================================================================================================================================================================================================================================================================================================================================================================================================================================================================================================================================================================================================================================================================================================================================================================================================================================================================================================================================================================================================================================================================================================================================================================================================================================================================================================================================================================================================================================================================================================================================================================================================================================================================================================================================================================================================================================================================================================================================================================================================================================================================================================================================================================================================================================================================================================================================================================================================================================================================================================================================================================================================================================================================================================================================================================================================================================================================================================================================================================================================================================================================================================================================================================================================================================================================================================================================================================================================================================================================================================================================================================================================================================================================================================================================================================================================================================================================================================================================================================================================================================================================================================================================================================================================================================================================================================================================================================================================================================================================================================================================================================================================================================================================================================================================================================================================================================================================================================================================================================================================================================================================================================================================================================================================================================================================================================================================================================================================================================================================================================================================================================================================================================================================================================================================================================================================================================================================================================================================================================================================================================================================================================================================================================================================================================================================================================================================================================================================================================================================================================================================================================================================================================================================================================================================================================================================================================================================================================================================================================================================================================================================================================================================================================================================================================================================================================================================================================================================================================================================================================================================================================================================================================================================================================================================================================================================================================================================================================================================================================================================================================================================================================================================================================================================================================================================================================================================================================================================================================================================================================================================================================================================================================================================================================================================================================================================================================================================================================================================================================================================================================================================================================================================================================================================================================================================================================================================================================================================================================================================================================================================================================================================================================================================================================================================================================================================================================================================================================================================================================================================================================================================================================================================================================================================================================================================================================================================================================================================================================================================================================================================================================================================================================================================================================================================================================================================================================================================================================================================================================================================================================================================================================================================================================================================================================================================================================================================================================================================================================================================================================================================================================================================================================================================================================================================================================================================================================================================================================================================================================================================================================================================================================================================================================================================================================================================================================================================================================================================================================================================================================================================================================================================================================================================================================================================================================================================================================================================================================================================================================================================================================================================================================================================================================================================================================================================================================================================================================================================================================================================================================================================================================================================================================================================================================================================================================================================================================================================================================================================================================================================================================================================================================================================================================================================================================================================================================================================================================================================================================================================================================================================================================================================================================================================================================================================================================================================================================================================================================================================================================================================================================================================================================================================================================================================================================================================================================================================================================================================================================================================================================================================================================================================================================================================================================================================================================================================================================================================================================================================================================================================================================================================================================================================================================================================================================================================================================================================================================================================================================================================================================================================================================================================================================================================================================================================================================================================================================================================================================================================================================================================================================================================================================================================================================================================================================================================================================================================================================================================================================================================================================================================================================================================================================================================================================================================================================================================================================================================================================================================================================================================================================================================================================================================================================================================================================================================================================================================================================================================================================================================================================================================================================================================================================================================================================================================================================================================================================================================================================================================================================================================================================================================================================================================================================================================================================================================================================================================================================================================================================================================================================================================================================================================================================================================================================================================================================================================================================================================================================================================================================================================================================================================================================================================================================================================================================================================================================================================================================================================================================================================================================================================================================================================================================================================================================================================================================================================================================================================================================================================================================================================================================================================================================================================================================================================================================================================================================================================================================================================================================================================================================================================================================================================================================================================================================================================================================================================================================================================================================================================================================================================================================================================================================================================================================================================================================================================================================================================================================================================================================================================================================================================================================================================================================================================================================================================================================================================================================================================================================================================================================================================================================================================================================================================================================================================================================================================================================================================================================================================================================================================================================================================================================================================================================================================================================================================================================================================================================================================================================================================================================================================================================================================================================================================================================================================================================================================================================================================================================================================================================================================================================================================================================================================================================================================================================================================================================================================================================================================================================================================================================================================================================================================================================================================================================================================================================================================================================================================================================================================================================================================================================================================================================================================================================================================================================================================================================================================================================================================================================================================================================================================================================================================================================================================================================================================================================================================================================================================================================================================================================================================================================================================================================================================================================================================================================================================================================================================================================================================================================================================================================================================================================================================================================================================================================================================================================================================================================================================================================================================================================================================================================================================================================================================================================================================================================================================================================================================================================================================================================================================================================================================================================================================================================================================================================================================================================================================================================================================================================================================================================================================================================================================================================================================================================================================================================================================================================================================================================================================================================================================================================================================================================================================================================================================================================================================================================================================================================================================================================================================================================================================================================================================================================================================================================================================================================================================================================================================================================================================================================================================================================================================================================================================================================================================================================================================================================================================================================================================================================================================================================================================================================================================================================================================================================================================================================================================================================================================================================================================================================================================================================================================================================================================================================================================================================================================================================================================================================================================================================================================================================================================================================================================================================================================================================================================================================================================================================================================================================================================================================================================================================================================================================================================================================================================================================================================================================================================================================================================================================================================================================================================================================================================================================================================================================================================================================================================================================================================================================================================================================================================================================================================================================================================================================================================================================================================================================================================================================================================================================================================================================================================================================================================================================================================================================================================================================================================================================================================================================================================================================================================================================================================================================================================================================================================================================================================================================================================================================================================================================================================================================================================================================================================================================================================================================================================================================================================================================================================================================================================================================================================================================================================================================================================================================================================================================================================================================================================================================================================================================================================================================================================================================================================================================================================================================================================================================================================================================================================================================================================================================================================================================================================================================================================================================================================================================================================================================================================================================================================================================================================================================================================================================================================================================================================================================================================================================================================================================================================================================================================================================================================================================================================================================================================================================================================================================================================================================================================================================================================================================================================================================================================================================================================================================================================================================================================================================================================================================================================================================================================================================================================================================================================================================================================================================================================================================================================================================================================================================================================================================================================================================================================================================================================================================================================================================================================================================================================================================================================================================================================================================================================================================================================================================================================================================================================================================================================================================================================================================================================================================================================================================================================================================================================================================================================================================================================================================================================================================================================================================================================================================================================================================================================================================================================================================================================================================================================================================================================================================================================================================================================================================================================================================================================================================================================================================================================================================================================================================================================================================================================================================================================================================================================================================================================================================================================================================================================================================================================================================================================================================================================================================================================================================================================================================================================================================================================================================================================================================================================================================================================================================================================================================================================================================================================================================================================================================================================================================================================================================================================================================================================================================================================================================================================================================================================================================================================================================================================================================================================================================================================================================================================================================================================================================================================================================================================================================================================================================================================================================================================================================================================================================================================================================================================================================================================================================================================================================================================================================================================================================================================================================================================================================================================================================================================================================================================================================================================================================================================================================================================================================================================================================================================================================================================================================================================================================================================================================================================================================================================================================================================================================================================================================================================================================================================================================================================================================================================================================================================================================================================================================================================================================================================================================================================================================================================================================================================================================================================================================================================================================================================================================================================================================================================================================================================================================================================================================================================================================================================================================================================================================================================================================================================================================================================================================================================================================================================================================================================================================================================================================================================================================================================================================================================================================================================================================================================================================================================================================================================================================================================================================================================================================================================================================================================================================================================================================================================================================================================================================================================================================================================================================================================================================================================================================================================================================================================================================================================================================================================================================================================================================================================================================================================================================================================================================================================================================================================================================================================================================================================================================================================================================================================================================================================================================================================================================================================================================================================================================================================================================================================================================================================================================================================================================================================================================================================================================================================================================================================================================================================================================================================================================================================================================================================================================================================================================================================================================================================================================================================================================================================================================================================================================================================================================================================================================================================================================================================================================================================================================================================================================================================================================================================================================================================================================================================================================================================================================================================================================================================================================================================================================================================================================================================================================================================================================================================================================================================================================================================================================================================================================================================================================================================================================================================================================================================================================================================================================================================================================================================================================================================================================================================================================================================================================================================================================================================================================================================================================================================================================================================================================================================================================================================================================================================================================================================================================================================================================================================================================================================================================================================================================================================================================================================================================================================================================================================================================================================================================================================================================================================================================================================================================================================================================================================================================================================================================================================================================================================================================================================================================================================================================================================================================================================================================================================================================================================================================================================================================================================================================================================================================================================================================================================================================================================================================================================================================================================================================================================================================================================================================================================================================================================================================================================================================================================================================================================================================================================================================================================================================================================================================================================================================================================================================================================================================================================================================================================================================================================================================================================================================================================================================================================================================================================================================================================================================================================================================================================================================================================================================================================================================================================================================================================================================================================================================================================================================================================================================================================================================================================================================================================================================================================================================================================================================================================================================================================================================================================================================================================================================================================================================================================================================================================================================================================================================================================================================================================================================================================================================================================================================================================================================================================================================================================================================================================================================================================================================================================================================================================================================================================================================================================================================================================================================================================================================================================================================================================================================================================================================================================================================================================================================================================================================================================================================================================================================================================================================================================================================================================================================================================================================================================================================================================================================================================================================================================================================================================================================================================================================================================================================================================================================================================================================================================================================================================================================================================================================================================================================================================================================================================================================================================================================================================================================================================================================================================================================================================================================================] - 0s 99us/sample - loss: 0.0642 - accuracy: 0.9885\n"
     ]
    },
    {
     "data": {
      "text/plain": [
       "[0.06474531203508377, 0.9885]"
      ]
     },
     "execution_count": 30,
     "metadata": {},
     "output_type": "execute_result"
    }
   ],
   "source": [
    "model_B.evaluate(X_test_B, y_test_B)"
   ]
  },
  {
   "cell_type": "code",
   "execution_count": 31,
   "metadata": {},
   "outputs": [
    {
     "name": "stdout",
     "output_type": "stream",
     "text": [
      "\r",
      "2000/1 [================================================================================================================================================================================================================================================================================================================================================================================================================================================================================================================================================================================================================================================================================================================================================================================================================================================================================================================================================================================================================================================================================================================================================================================================================================================================================================================================================================================================================================================================================================================================================================================================================================================================================================================================================================================================================================================================================================================================================================================================================================================================================================================================================================================================================================================================================================================================================================================================================================================================================================================================================================================================================================================================================================================================================================================================================================================================================================================================================================================================================================================================================================================================================================================================================================================================================================================================================================================================================================================================================================================================================================================================================================================================================================================================================================================================================================================================================================================================================================================================================================================================================================================================================================================================================================================================================================================================================================================================================================================================================================================================================================================================================================================================================================================================================================================================================================================================================================================================================================================================================================================================================================================================================================================================================================================================================================================================================================================================================================================================================================================================================================================================================================================================================================================================================================================================================================================================================================================================================================================================================================================================================================================================================================================================================================================================================================================================================================================================================================================================================================================================================================================================================================================================================================================================================================================================================================================================================================================================================================================================================================================================================================================================================================================================================================================================================================================================================================================================================================================================================================================================================================================================================================================================================================================================================================================================================================================================================================================================================================================================================================================================================================================================================================================================================================================================================================================================================================================================================================================================================================================================================================================================================================================================================================================================================================================================================================================================================================================================================================================================================================================================================================================================================================================================================================================================================================================================================================================================================================================================================================================================================================================================================================================================================================================================================================================================================================================================================================================================================================================================================================================================================================================================================================================================================================================================================================================================================================================================================================================================================================================================================================================================================================================================================================================================================================================================================================================================================================================================================================================================================================================================================================================================================================================================================================================================================================================================================================================================================================================================================================================================================================================================================================================================================================================================================================================================================================================================================================================================================================================================================================================================================================================================================================================================================================================================================================================================================================================================================================================================================================================================================================================================================================================================================================================================================================================================================================================================================================================================================================================================================================================================================================================================================================================================================================================================================================================================================================================================================================================================================================================================================================================================================================================================================================================================================================================================================================================================================================================================================================================================================================================================================================================================================================================================================================================================================================================================================================================================================================================================================================================================================================================================================================================================================================================================================================================================================================================================================================================================================================================================================================================================================================================================================================================================================================================================================================================================================================================================================================================================================================================================================================================================================================================================================================================================================================================================================================================================================================================================================================================================================================================================================================================================================================================================================================================================================================================================================================================================================================================================================================================================================================================================================================================================================================================================================================================================================================================================================================================================================================================================================================================================================================================================================================================================================================================================================================================================================================================================================================================================================================================================================================================================================================================================================================================================================================================================================================================================================================================================================================================================================================================================================================================================================================================================================================================================================================================================================================================================================================================================================================================================================================================================================================================================================================================================================================================================================================================================================================================================================================================================================================================================================================================================================================================================================================================================================================================================================================================================================================================================================================================================================================================================================================================================================================================================================================================================================================================================================================================================================================================================================================================================================================================================================================================================================================================================================================================================================================================================================================================================================================================================================================================================================================================================================================================================================================================================================================================================================================================================================================================================================================================================================================================================================================================================================================================================================================================================================================================================================================================================================================================================================================================================================================================================================================================================================================================================================================================================================================================================================================================================================================================================================================================================================================================================================================================================================================================================================================================================================================================================================================================================================================================================================================================================================================================================================================================================================================================================================================================================================================================================================================================================================================================================================================================================================================================================================================================================================================================================================================================================================================================================================================================================================================================================================================================================================================================================================================================================================================================================================================================================================================================================================================================================================================================================================================================================================================================================================================================================================================================================================================================================================================================================================================================================================================================================================================================================================================================================================================================================================================================================================================================================================================================================================================================================================================================================================================================================================================================================================================================================================================================================================================================================================================================================================================================================================================================================================================================================================================================================================================================================================================================================================================================================================================================================================================================================================================================================================================================================================================================================================================================================================================================================================================================================================================================================================================================================================================================================================================================================================================================================================================================================================================================================================================================================================================================================================================================================================================================================================================================================================================================================================================================================================================================================================================================================================================================================================================================================================================================================================================================================================================================================================================================================================================================================================================================================================================================================================================================================================================================================================================================================================================================================================================================================================================================================================================================================================================================================================================================================================================================================================================================================================================================================================================================================================================================================================================================================================================================================================================================================================================================================================================================================================================================================================================================================================================================================================================================================================================================================================================================================================================================================================================================================================================================================================================================================================================================================================================================================================================================================================================================================================================================================================================================================================================================================================================================================================================================================================================================================================================================================================================================================================================================================================================================================================================================================================================================================================================================================================================================================================================================================================================================================================================================================================================================================================================================================================================================================================================================================================================================================================================================================================================================================================================================================================================================================================================================================================================================================================================================================================================================================================================================================================================================================================================================================================================================================================================================================================================================================================================================================================================================================================================================================================================================================================================================================================================================================================================================================================================================================================================================================================================================================================================================================================================================================================================================================================================================================================================================================================================================================================================================================================================================================================================================================================================================================================================================================================================================================================================================================================================================================================================================================================================================================================================================================================================================================================================================================================================================================================================================================================================================================================================================================================================================================================================================================================================================================================================================================================================================================================================================================================================================================================================================================================================================================================================================================================================================================================================================================================================================================================================================================================================================================================================================================================================================================================================================================================================================================================================================================================================================================================================================================================================================================================================================================================================================================================================================================================================================================================================================================================================================================================================================================================================================================================================================================================================================================================================================================================================================================================================================================================================================================================================================================================================================================================================================================================================================================================================================================================================================================================================================================================================================================================================================================================================================================================================================================================================================================================================================================================================================================================================================================================================================================================================================================================================================================================================================================================================================================================================================================================================================================================================================================================================================================================================================================================================================================================================================================================================================================================================================================================================================================================================================================================================================================================================================================================================================================================================================================================================================================================================================================================================================================================================================================================================================================================================================================================================================================================================================================================================================================================================================================================================================================================================================================================================================================================================================================================================================================================================================================================================================================================================================================================================================================================================================================================================================================================================================================================================================================================================================================================================================================================================================================================================================================================================================================================================================================================================================================================================================================================================================================================================================================================================================================================================================================================================================================================================================================================================================================================================================================================================================================================================================================================================================================================================================================================================================================================================================================================================================================================================================================================================================================================================================================================================================================================================================================================================================================================================================================================================================================================================================================================================================================================================================================================================================================================================================================================================================================================================================================================================================================================================================================================================================================================================================================================================================================================================================================================================================================================================================================================================================================================================================================================================================================================================================================================================================================================================================================================================================================================================================================================================================================================================================================================================================================================================================================================================================================================================================================================================================================================================================================================================================================================================================================================================================================================================================================================================================================================================================================================================================================================================================================================================================================================================================================================================================================================================================================================================================================================================================================================================================================================================================================================================================================================================================================================================================================================================================================================================================================================================================================================================================================================================================================================================================================================================================================================================================================================================================================================================================================================================================================================================================================================================================================================================================================================================================================================================================================================================================================================================================================================================================================================================================================================================================================================================================================================================================================================================================================================================================================================================================================================================================================================================================================================================================================================================================================================================================================================================================================================================================================================================================================================================================================================================================================================================================================================================================================================================================================================================================================================================================================================================================================================================================================================================================================================================================================================================================================================================================================================================================================================================================================================================================================================================================================================================================================================================================================================================================================================================================================================================================================================================================================================================================================================================================================================================================================================================================================================================================================================================================================================================================================================================================================================================================================================================================================================================================================================================================================================================================================================================================================================================================================================================================================================================================================================================================================================================================================================================================================================================================================================================================================================================================================================================================================================================================================================================================================================================================================================================================================================================================================================================================================================================================================================================================================================================================================================================================================================================================================================================================================================================================================================================================================================================================================================================================================================================================================================================================================================================================================================================================================================================================================================================================================================================================================================================================================================================================================================================================================================================================================================================================================================================================================================================================================================================================================================================================================================================================================================================================================================================================================================================================================================================================================================================================================================================================================================================================================================================================================================================================================================================================================================================================================================================================================================================================================================================================================================================================================================================================================================================================================================================================================================================================================================================================================================================================================================================================================================================================================================================================================================================================================================================================================================================================================================================================================================================================================================================================================================================================================================================================================================================================================================================================================================================================================================================================================================================================================================================================================================================================================================================================================================================================================================================================================================================================================================================================================================================================================================================================================================================================================================================================================================================================================================================================================================================================================================================================================================================================================================================================================================================================================================================================================================================================================================================================================================================================================================================================================================================================================================================================================================================================================================================================================================================================================================================================================================================================================================================================================================================================================================================================================================================================================================================================================================================================================================================================================================================================================================================================================================================================================================================================================================================================================================================================================================================================================================================================================================================================================================================================================================================================================================================================================================================================================================================================================================================================================================================================================================================================================================================================================================================================================================================================================================================================================================================================================================================================================================================================================================================================================================================================================================================================================================================================================================================================================================================================================================================================================================================================================================================================================================================================================================================================================================================================================================================================================================================================================================================================================================================================================================================================================================================================================================================================================================================================================================================================================================================================================================================] - 0s 90us/sample - loss: 0.0615 - accuracy: 0.9855\n"
     ]
    },
    {
     "data": {
      "text/plain": [
       "[0.08566666263341903, 0.9855]"
      ]
     },
     "execution_count": 31,
     "metadata": {},
     "output_type": "execute_result"
    }
   ],
   "source": [
    "model_B_on_A.evaluate(X_test_B, y_test_B)"
   ]
  }
 ],
 "metadata": {
  "kernelspec": {
   "display_name": "Python 3",
   "language": "python",
   "name": "python3"
  },
  "language_info": {
   "codemirror_mode": {
    "name": "ipython",
    "version": 3
   },
   "file_extension": ".py",
   "mimetype": "text/x-python",
   "name": "python",
   "nbconvert_exporter": "python",
   "pygments_lexer": "ipython3",
   "version": "3.7.6"
  }
 },
 "nbformat": 4,
 "nbformat_minor": 2
}
